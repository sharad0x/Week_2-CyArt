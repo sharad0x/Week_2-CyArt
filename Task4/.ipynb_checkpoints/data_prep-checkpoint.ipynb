{
 "cells": [
  {
   "cell_type": "markdown",
   "id": "d4e628b8-02e9-46e5-acc3-64534d781041",
   "metadata": {},
   "source": [
    "## 1. Setup & Imports"
   ]
  },
  {
   "cell_type": "code",
   "execution_count": 20,
   "id": "42601e33-4465-4b77-a042-fc57c3460109",
   "metadata": {},
   "outputs": [],
   "source": [
    "# Load libraries\n",
    "import pandas as pd\n",
    "import numpy as np\n",
    "from scipy.stats import zscore"
   ]
  },
  {
   "cell_type": "markdown",
   "id": "22477ebb-353b-42db-92ae-f6f397427292",
   "metadata": {},
   "source": [
    "# 🧹 Data Cleaning and Feature Engineering Pipeline\n",
    "\n",
    "This notebook demonstrates a full data cleaning and preprocessing pipeline on a messy real-world dataset. We perform:\n",
    "- Missing value imputation\n",
    "- Outlier detection and treatment\n",
    "- Type conversion and schema inference\n",
    "- Data normalization (pivoting, multi-indexing)\n",
    "- Feature engineering (polynomial features, interaction terms)\n",
    "\n",
    "All steps are designed for downstream modeling (regression/classification).\n"
   ]
  },
  {
   "cell_type": "markdown",
   "id": "b56d0aab-4a61-46f9-9f6a-e66300b94b09",
   "metadata": {},
   "source": [
    "## 📘 2. Load Dataset"
   ]
  },
  {
   "cell_type": "code",
   "execution_count": 21,
   "id": "ec925368-6628-4c6d-b8a8-28aae9ed83f0",
   "metadata": {},
   "outputs": [
    {
     "data": {
      "text/html": [
       "<div>\n",
       "<style scoped>\n",
       "    .dataframe tbody tr th:only-of-type {\n",
       "        vertical-align: middle;\n",
       "    }\n",
       "\n",
       "    .dataframe tbody tr th {\n",
       "        vertical-align: top;\n",
       "    }\n",
       "\n",
       "    .dataframe thead th {\n",
       "        text-align: right;\n",
       "    }\n",
       "</style>\n",
       "<table border=\"1\" class=\"dataframe\">\n",
       "  <thead>\n",
       "    <tr style=\"text-align: right;\">\n",
       "      <th></th>\n",
       "      <th>date</th>\n",
       "      <th>open</th>\n",
       "      <th>high</th>\n",
       "      <th>low</th>\n",
       "      <th>close</th>\n",
       "      <th>volume</th>\n",
       "      <th>Name</th>\n",
       "    </tr>\n",
       "  </thead>\n",
       "  <tbody>\n",
       "    <tr>\n",
       "      <th>0</th>\n",
       "      <td>2013-02-08</td>\n",
       "      <td>15.07</td>\n",
       "      <td>15.12</td>\n",
       "      <td>14.63</td>\n",
       "      <td>14.75</td>\n",
       "      <td>8407500</td>\n",
       "      <td>AAL</td>\n",
       "    </tr>\n",
       "    <tr>\n",
       "      <th>1</th>\n",
       "      <td>2013-02-11</td>\n",
       "      <td>14.89</td>\n",
       "      <td>15.01</td>\n",
       "      <td>14.26</td>\n",
       "      <td>14.46</td>\n",
       "      <td>8882000</td>\n",
       "      <td>AAL</td>\n",
       "    </tr>\n",
       "    <tr>\n",
       "      <th>2</th>\n",
       "      <td>2013-02-12</td>\n",
       "      <td>14.45</td>\n",
       "      <td>14.51</td>\n",
       "      <td>14.10</td>\n",
       "      <td>14.27</td>\n",
       "      <td>8126000</td>\n",
       "      <td>AAL</td>\n",
       "    </tr>\n",
       "    <tr>\n",
       "      <th>3</th>\n",
       "      <td>2013-02-13</td>\n",
       "      <td>14.30</td>\n",
       "      <td>14.94</td>\n",
       "      <td>14.25</td>\n",
       "      <td>14.66</td>\n",
       "      <td>10259500</td>\n",
       "      <td>AAL</td>\n",
       "    </tr>\n",
       "    <tr>\n",
       "      <th>4</th>\n",
       "      <td>2013-02-14</td>\n",
       "      <td>14.94</td>\n",
       "      <td>14.96</td>\n",
       "      <td>13.16</td>\n",
       "      <td>13.99</td>\n",
       "      <td>31879900</td>\n",
       "      <td>AAL</td>\n",
       "    </tr>\n",
       "  </tbody>\n",
       "</table>\n",
       "</div>"
      ],
      "text/plain": [
       "        date   open   high    low  close    volume Name\n",
       "0 2013-02-08  15.07  15.12  14.63  14.75   8407500  AAL\n",
       "1 2013-02-11  14.89  15.01  14.26  14.46   8882000  AAL\n",
       "2 2013-02-12  14.45  14.51  14.10  14.27   8126000  AAL\n",
       "3 2013-02-13  14.30  14.94  14.25  14.66  10259500  AAL\n",
       "4 2013-02-14  14.94  14.96  13.16  13.99  31879900  AAL"
      ]
     },
     "execution_count": 21,
     "metadata": {},
     "output_type": "execute_result"
    }
   ],
   "source": [
    "# Load the dataset\n",
    "df = pd.read_csv('all_stocks_5yr.csv', parse_dates=['date'])\n",
    "df.head()"
   ]
  },
  {
   "cell_type": "markdown",
   "id": "2ff5104e-dbdc-43ac-9643-b061305b4a60",
   "metadata": {},
   "source": [
    "## 📘 3. Multi-step Cleaning\n",
    "### ✅ 3.1 Initial EDA"
   ]
  },
  {
   "cell_type": "code",
   "execution_count": 23,
   "id": "37060fb8-0424-4828-8904-9f59c32c1b7f",
   "metadata": {},
   "outputs": [
    {
     "name": "stdout",
     "output_type": "stream",
     "text": [
      "<class 'pandas.core.frame.DataFrame'>\n",
      "RangeIndex: 619040 entries, 0 to 619039\n",
      "Data columns (total 7 columns):\n",
      " #   Column  Non-Null Count   Dtype         \n",
      "---  ------  --------------   -----         \n",
      " 0   date    619040 non-null  datetime64[ns]\n",
      " 1   open    619029 non-null  float64       \n",
      " 2   high    619032 non-null  float64       \n",
      " 3   low     619032 non-null  float64       \n",
      " 4   close   619040 non-null  float64       \n",
      " 5   volume  619040 non-null  int64         \n",
      " 6   Name    619040 non-null  object        \n",
      "dtypes: datetime64[ns](1), float64(4), int64(1), object(1)\n",
      "memory usage: 33.1+ MB\n",
      "None\n"
     ]
    }
   ],
   "source": [
    "print(df.info())        # Check data types and missing values presence"
   ]
  },
  {
   "cell_type": "code",
   "execution_count": 24,
   "id": "17111478-9e0e-4752-99a9-d8a78a2befe5",
   "metadata": {},
   "outputs": [
    {
     "name": "stdout",
     "output_type": "stream",
     "text": [
      "date       0\n",
      "open      11\n",
      "high       8\n",
      "low        8\n",
      "close      0\n",
      "volume     0\n",
      "Name       0\n",
      "dtype: int64\n"
     ]
    }
   ],
   "source": [
    "print(df.isna().sum())  # Number of missing values per column"
   ]
  },
  {
   "cell_type": "markdown",
   "id": "969f3c8e-78b3-4fd7-a38a-c5b17401a6e8",
   "metadata": {},
   "source": [
    "### 3.2 Missing Data Imputation\n",
    "Forward and backward fill for missing price data grouped by ticker 'Name'"
   ]
  },
  {
   "cell_type": "code",
   "execution_count": 26,
   "id": "989f5fc4-cee8-465c-b3f8-aaf42a683eb6",
   "metadata": {},
   "outputs": [],
   "source": [
    "df = df.sort_values(['Name', 'date'])\n",
    "\n",
    "cols_to_fill = ['open', 'high', 'low', 'close', 'volume']\n",
    "df[cols_to_fill] = df.groupby('Name')[cols_to_fill].transform(lambda grp: grp.ffill().bfill())"
   ]
  },
  {
   "cell_type": "code",
   "execution_count": 27,
   "id": "59ad0879-debf-4874-8a95-b72755c326d2",
   "metadata": {},
   "outputs": [],
   "source": [
    "# Drop rows with any remaining missing values, if any\n",
    "df = df.dropna()"
   ]
  },
  {
   "cell_type": "markdown",
   "id": "2f4e722b-6255-41ac-9354-8f0f4798151b",
   "metadata": {},
   "source": [
    "### 3.3 Outlier Detection and Capping using z-score on 'close' price per stock"
   ]
  },
  {
   "cell_type": "code",
   "execution_count": 28,
   "id": "0e1088b1-d533-4091-b236-5eba0d1d5c98",
   "metadata": {},
   "outputs": [],
   "source": [
    "def cap_outliers(series, z_thresh=3):\n",
    "    z_scores = zscore(series)\n",
    "    capped_series = series.copy()\n",
    "    mean_val = series.mean()\n",
    "    std_val = series.std()\n",
    "    capped_series[z_scores > z_thresh] = mean_val + z_thresh * std_val\n",
    "    capped_series[z_scores < -z_thresh] = mean_val - z_thresh * std_val\n",
    "    return capped_series"
   ]
  },
  {
   "cell_type": "code",
   "execution_count": 29,
   "id": "88bfa72c-ce39-4df1-9384-a1596d2e01e1",
   "metadata": {},
   "outputs": [],
   "source": [
    "df['close'] = df.groupby('Name')['close'].transform(cap_outliers)"
   ]
  },
  {
   "cell_type": "markdown",
   "id": "ac606580-45d7-4958-a3fb-7f8d8705c859",
   "metadata": {},
   "source": [
    "### 3.4 Type Conversion\n",
    "Convert 'Name' to categorical, 'volume' to integer"
   ]
  },
  {
   "cell_type": "code",
   "execution_count": 30,
   "id": "5de4ab24-b186-4ab2-ae81-8039b77eda86",
   "metadata": {},
   "outputs": [],
   "source": [
    "df['Name'] = df['Name'].astype('category')\n",
    "df['volume'] = df['volume'].astype(int)"
   ]
  },
  {
   "cell_type": "markdown",
   "id": "e0d1f97d-d6fd-4efe-b43a-68eb42b23abf",
   "metadata": {},
   "source": [
    "## 4. Schema inference and normalization\n",
    "\n",
    "### 4.1 Set MultiIndex for easier time series access by ticker and date"
   ]
  },
  {
   "cell_type": "code",
   "execution_count": 31,
   "id": "74e7b882-cf41-4446-87c7-f9e7cbb32868",
   "metadata": {},
   "outputs": [],
   "source": [
    "df_multi_index = df.set_index(['Name', 'date']).sort_index()"
   ]
  },
  {
   "cell_type": "markdown",
   "id": "32fcd6f9-0a27-44d1-bd42-f71f7aea4fad",
   "metadata": {},
   "source": [
    "### 4.2 Create a pivot table - wide format of close prices for all stocks (tickers as columns)"
   ]
  },
  {
   "cell_type": "code",
   "execution_count": 32,
   "id": "16e010f0-ce79-4eec-a150-b8e9d332bda4",
   "metadata": {},
   "outputs": [],
   "source": [
    "df_pivot = df.pivot(index='date', columns='Name', values='close')"
   ]
  },
  {
   "cell_type": "markdown",
   "id": "9aff86e0-635d-4cc0-8e23-7d4c3d8d8f08",
   "metadata": {},
   "source": [
    "## 5. Feature engineering for downstream classification problem\n",
    "\n",
    "### 5.1 Polynomial Features: Example - squared close price"
   ]
  },
  {
   "cell_type": "code",
   "execution_count": 34,
   "id": "be0192b7-d787-4cf2-b551-9c2cb380b57f",
   "metadata": {},
   "outputs": [],
   "source": [
    "df['close_sq'] = df['close'] ** 2"
   ]
  },
  {
   "cell_type": "markdown",
   "id": "e574d720-4e18-4cd7-b82e-8e71d648e819",
   "metadata": {},
   "source": [
    "### 5.2 Interaction Term: close price multiplied by volume"
   ]
  },
  {
   "cell_type": "code",
   "execution_count": 35,
   "id": "0c1e9f9b-bfa1-440f-9a7a-8dfe8f29ca3f",
   "metadata": {},
   "outputs": [],
   "source": [
    "df['close_vol_interaction'] = df['close'] * df['volume']"
   ]
  },
  {
   "cell_type": "markdown",
   "id": "62ea2808-647e-4e9f-9432-9cdf7660761d",
   "metadata": {},
   "source": [
    "### 5.3 Rolling Features: 5-day rolling mean of close price per ticker using groupby + transform"
   ]
  },
  {
   "cell_type": "code",
   "execution_count": 36,
   "id": "924644f1-14b5-4258-a238-3b242a18f11f",
   "metadata": {},
   "outputs": [
    {
     "name": "stderr",
     "output_type": "stream",
     "text": [
      "C:\\Users\\shara\\AppData\\Local\\Temp\\ipykernel_12732\\1010459284.py:1: FutureWarning: The default of observed=False is deprecated and will be changed to True in a future version of pandas. Pass observed=False to retain current behavior or observed=True to adopt the future default and silence this warning.\n",
      "  df['close_rolling_mean_5'] = df.groupby('Name')['close'].transform(lambda x: x.rolling(window=5, min_periods=1).mean())\n"
     ]
    }
   ],
   "source": [
    "df['close_rolling_mean_5'] = df.groupby('Name')['close'].transform(lambda x: x.rolling(window=5, min_periods=1).mean())"
   ]
  },
  {
   "cell_type": "markdown",
   "id": "2eb5e1b7-cf77-4df1-9d03-2a54ba2226ee",
   "metadata": {},
   "source": [
    "### 5.4 Lagged Feature and Target Variable"
   ]
  },
  {
   "cell_type": "code",
   "execution_count": 37,
   "id": "081b5bcb-9496-4869-ada6-faddff13fa30",
   "metadata": {},
   "outputs": [
    {
     "name": "stderr",
     "output_type": "stream",
     "text": [
      "C:\\Users\\shara\\AppData\\Local\\Temp\\ipykernel_12732\\1265630980.py:2: FutureWarning: The default of observed=False is deprecated and will be changed to True in a future version of pandas. Pass observed=False to retain current behavior or observed=True to adopt the future default and silence this warning.\n",
      "  df['close_next_day'] = df.groupby('Name')['close'].shift(-1)\n"
     ]
    }
   ],
   "source": [
    "# Predict whether the price will go up next day (binary classification target)\n",
    "df['close_next_day'] = df.groupby('Name')['close'].shift(-1)\n",
    "df['return_next_day'] = (df['close_next_day'] - df['close']) / df['close']\n",
    "df['target'] = (df['return_next_day'] > 0).astype(int)"
   ]
  },
  {
   "cell_type": "code",
   "execution_count": 38,
   "id": "078e5fca-a446-400a-a054-69aaf3671066",
   "metadata": {},
   "outputs": [],
   "source": [
    "# Drop rows with NaN in target (last day for each stock)\n",
    "df = df.dropna(subset=['target'])"
   ]
  },
  {
   "cell_type": "code",
   "execution_count": 39,
   "id": "d7436ba0-53c7-4185-9d16-fa87e25c0eed",
   "metadata": {},
   "outputs": [],
   "source": [
    "# -- Save the cleaned and feature engineered data --\n",
    "df.to_csv('sp500_cleaned_features.csv', index=False)"
   ]
  },
  {
   "cell_type": "code",
   "execution_count": 41,
   "id": "16477d0a-8c80-4fe3-accc-cfb18f24ef5c",
   "metadata": {},
   "outputs": [
    {
     "data": {
      "text/html": [
       "<div>\n",
       "<style scoped>\n",
       "    .dataframe tbody tr th:only-of-type {\n",
       "        vertical-align: middle;\n",
       "    }\n",
       "\n",
       "    .dataframe tbody tr th {\n",
       "        vertical-align: top;\n",
       "    }\n",
       "\n",
       "    .dataframe thead th {\n",
       "        text-align: right;\n",
       "    }\n",
       "</style>\n",
       "<table border=\"1\" class=\"dataframe\">\n",
       "  <thead>\n",
       "    <tr style=\"text-align: right;\">\n",
       "      <th></th>\n",
       "      <th>date</th>\n",
       "      <th>open</th>\n",
       "      <th>high</th>\n",
       "      <th>low</th>\n",
       "      <th>close</th>\n",
       "      <th>volume</th>\n",
       "      <th>Name</th>\n",
       "      <th>close_sq</th>\n",
       "      <th>close_vol_interaction</th>\n",
       "      <th>close_rolling_mean_5</th>\n",
       "      <th>close_next_day</th>\n",
       "      <th>return_next_day</th>\n",
       "      <th>target</th>\n",
       "    </tr>\n",
       "  </thead>\n",
       "  <tbody>\n",
       "    <tr>\n",
       "      <th>71611</th>\n",
       "      <td>2013-02-08</td>\n",
       "      <td>45.07</td>\n",
       "      <td>45.35</td>\n",
       "      <td>45.00</td>\n",
       "      <td>45.08</td>\n",
       "      <td>1824755</td>\n",
       "      <td>A</td>\n",
       "      <td>2032.2064</td>\n",
       "      <td>8.225996e+07</td>\n",
       "      <td>45.080000</td>\n",
       "      <td>44.60</td>\n",
       "      <td>-0.010648</td>\n",
       "      <td>0</td>\n",
       "    </tr>\n",
       "    <tr>\n",
       "      <th>71612</th>\n",
       "      <td>2013-02-11</td>\n",
       "      <td>45.17</td>\n",
       "      <td>45.18</td>\n",
       "      <td>44.45</td>\n",
       "      <td>44.60</td>\n",
       "      <td>2915405</td>\n",
       "      <td>A</td>\n",
       "      <td>1989.1600</td>\n",
       "      <td>1.300271e+08</td>\n",
       "      <td>44.840000</td>\n",
       "      <td>44.62</td>\n",
       "      <td>0.000448</td>\n",
       "      <td>1</td>\n",
       "    </tr>\n",
       "    <tr>\n",
       "      <th>71613</th>\n",
       "      <td>2013-02-12</td>\n",
       "      <td>44.81</td>\n",
       "      <td>44.95</td>\n",
       "      <td>44.50</td>\n",
       "      <td>44.62</td>\n",
       "      <td>2373731</td>\n",
       "      <td>A</td>\n",
       "      <td>1990.9444</td>\n",
       "      <td>1.059159e+08</td>\n",
       "      <td>44.766667</td>\n",
       "      <td>44.75</td>\n",
       "      <td>0.002913</td>\n",
       "      <td>1</td>\n",
       "    </tr>\n",
       "    <tr>\n",
       "      <th>71614</th>\n",
       "      <td>2013-02-13</td>\n",
       "      <td>44.81</td>\n",
       "      <td>45.24</td>\n",
       "      <td>44.68</td>\n",
       "      <td>44.75</td>\n",
       "      <td>2052338</td>\n",
       "      <td>A</td>\n",
       "      <td>2002.5625</td>\n",
       "      <td>9.184213e+07</td>\n",
       "      <td>44.762500</td>\n",
       "      <td>44.58</td>\n",
       "      <td>-0.003799</td>\n",
       "      <td>0</td>\n",
       "    </tr>\n",
       "    <tr>\n",
       "      <th>71615</th>\n",
       "      <td>2013-02-14</td>\n",
       "      <td>44.72</td>\n",
       "      <td>44.78</td>\n",
       "      <td>44.36</td>\n",
       "      <td>44.58</td>\n",
       "      <td>3826245</td>\n",
       "      <td>A</td>\n",
       "      <td>1987.3764</td>\n",
       "      <td>1.705740e+08</td>\n",
       "      <td>44.726000</td>\n",
       "      <td>42.25</td>\n",
       "      <td>-0.052266</td>\n",
       "      <td>0</td>\n",
       "    </tr>\n",
       "  </tbody>\n",
       "</table>\n",
       "</div>"
      ],
      "text/plain": [
       "            date   open   high    low  close   volume Name   close_sq  \\\n",
       "71611 2013-02-08  45.07  45.35  45.00  45.08  1824755    A  2032.2064   \n",
       "71612 2013-02-11  45.17  45.18  44.45  44.60  2915405    A  1989.1600   \n",
       "71613 2013-02-12  44.81  44.95  44.50  44.62  2373731    A  1990.9444   \n",
       "71614 2013-02-13  44.81  45.24  44.68  44.75  2052338    A  2002.5625   \n",
       "71615 2013-02-14  44.72  44.78  44.36  44.58  3826245    A  1987.3764   \n",
       "\n",
       "       close_vol_interaction  close_rolling_mean_5  close_next_day  \\\n",
       "71611           8.225996e+07             45.080000           44.60   \n",
       "71612           1.300271e+08             44.840000           44.62   \n",
       "71613           1.059159e+08             44.766667           44.75   \n",
       "71614           9.184213e+07             44.762500           44.58   \n",
       "71615           1.705740e+08             44.726000           42.25   \n",
       "\n",
       "       return_next_day  target  \n",
       "71611        -0.010648       0  \n",
       "71612         0.000448       1  \n",
       "71613         0.002913       1  \n",
       "71614        -0.003799       0  \n",
       "71615        -0.052266       0  "
      ]
     },
     "execution_count": 41,
     "metadata": {},
     "output_type": "execute_result"
    }
   ],
   "source": [
    "# Display a sample of the transformed dataframe\n",
    "df.head()"
   ]
  },
  {
   "cell_type": "code",
   "execution_count": null,
   "id": "b8876e7e-e11c-4bfb-9a73-5de7bf6497d6",
   "metadata": {},
   "outputs": [],
   "source": []
  }
 ],
 "metadata": {
  "kernelspec": {
   "display_name": "Python 3 (ipykernel)",
   "language": "python",
   "name": "python3"
  },
  "language_info": {
   "codemirror_mode": {
    "name": "ipython",
    "version": 3
   },
   "file_extension": ".py",
   "mimetype": "text/x-python",
   "name": "python",
   "nbconvert_exporter": "python",
   "pygments_lexer": "ipython3",
   "version": "3.13.5"
  }
 },
 "nbformat": 4,
 "nbformat_minor": 5
}
